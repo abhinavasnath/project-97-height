{
  "nbformat": 4,
  "nbformat_minor": 0,
  "metadata": {
    "colab": {
      "provenance": [],
      "authorship_tag": "ABX9TyOXXhc6T9qkTiCSoHrW/Erk",
      "include_colab_link": true
    },
    "kernelspec": {
      "name": "python3",
      "display_name": "Python 3"
    },
    "language_info": {
      "name": "python"
    }
  },
  "cells": [
    {
      "cell_type": "markdown",
      "metadata": {
        "id": "view-in-github",
        "colab_type": "text"
      },
      "source": [
        "<a href=\"https://colab.research.google.com/github/abhinavasnath/project-97-height/blob/main/project_97%2Cpython_1.ipynb\" target=\"_parent\"><img src=\"https://colab.research.google.com/assets/colab-badge.svg\" alt=\"Open In Colab\"/></a>"
      ]
    },
    {
      "cell_type": "code",
      "execution_count": 3,
      "metadata": {
        "colab": {
          "base_uri": "https://localhost:8080/"
        },
        "id": "txjb0eNUrogm",
        "outputId": "d77da5c7-8560-4e6c-c0a1-0df177e6f986"
      },
      "outputs": [
        {
          "output_type": "stream",
          "name": "stdout",
          "text": [
            "leap year checker\n",
            "enter the year :1975\n",
            "the year you entered is not a leap year\n"
          ]
        }
      ],
      "source": [
        "def leapyear():\n",
        "  print(\"leap year checker\")\n",
        "  a=int(input(\"enter the year :\"))\n",
        "  if((a%4)==0):\n",
        "    print(\"the year you entered is aleap yesr\")\n",
        "  elif((a%100)==0):\n",
        "    print(\"the year you entered is aleap yesr\")\n",
        "  elif((a%400)==0):\n",
        "    print(\"the year you entered is aleap yesr\")\n",
        "  else:\n",
        "    print(\"the year you entered is not a leap year\")\n",
        "\n",
        "leapyear()\n"
      ]
    },
    {
      "cell_type": "code",
      "source": [
        "def height():\n",
        "  print(\"height  unit covertor\")\n",
        "  a=float(input(\"enter the height in centimeters:\"))\n",
        "  print(\"height in inches:\",a*0.394,\"inch\")\n",
        "  print(\"height in feets:\",a*0.0328,\"feet\")\n",
        "\n",
        "\n",
        "height()"
      ],
      "metadata": {
        "colab": {
          "base_uri": "https://localhost:8080/"
        },
        "id": "G9fbp4a7ucbP",
        "outputId": "d42498d7-97e5-4482-be7b-a837696842c9"
      },
      "execution_count": 6,
      "outputs": [
        {
          "output_type": "stream",
          "name": "stdout",
          "text": [
            "height  unit covertor\n",
            "enter the height in centimeters:145.5\n",
            "height in inches: 57.327000000000005 inch\n",
            "height in feets: 4.7724 feet\n"
          ]
        }
      ]
    }
  ]
}